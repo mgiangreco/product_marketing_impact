{
 "cells": [
  {
   "cell_type": "markdown",
   "metadata": {},
   "source": [
    "# Assessing Product Marketing Impact"
   ]
  },
  {
   "cell_type": "markdown",
   "metadata": {},
   "source": [
    "### Problem Statement"
   ]
  },
  {
   "cell_type": "markdown",
   "metadata": {},
   "source": [
    "#### Our task is to assess the efficacy of marketing efforts promoting the company's new \"PWV\" product. Specifically, we want to know if marketing efforts begun in April 2017 are causing an increase in PWV adoption rates. Finally, we are to estimate the number of users from the April 2017 cohort who will use PWV in future months."
   ]
  },
  {
   "cell_type": "markdown",
   "metadata": {},
   "source": [
    "### Approach"
   ]
  },
  {
   "cell_type": "markdown",
   "metadata": {},
   "source": [
    "#### We can treat our data as a natural experiment, with the control group being those users who joined the company before the marketing efforts began ('Historical Data' sheet) and the treatment group being those who joined the company after the start of marketing efforts ('New Cohort' sheet). Since we do not have information about whether or not individual users would have adopted at a later time not covered by our dataset, we can use survival analysis, a statistical technique designed specifically for right-censored data. In this case, 'surviving' means that a user has NOT adopted PWV during a specified time period. Going forward, we'll substitute the more descriptive term, \"adoption resistance\" for the statistical term \"survival\". Our approach is two-pronged: 1) Plot and compare the adoption resistance curves of the control and treatment groups, and 2) Use survival regression to predict adoption in future months. "
   ]
  },
  {
   "cell_type": "markdown",
   "metadata": {},
   "source": [
    "### I. Comparing Adoption Resistance, Treatment vs. Control"
   ]
  },
  {
   "cell_type": "code",
   "execution_count": 490,
   "metadata": {
    "collapsed": false
   },
   "outputs": [],
   "source": [
    "#!/usr/bin/env python2\n",
    "\n",
    "import pandas as pd\n",
    "import numpy as np\n",
    "import datetime\n",
    "pd.options.mode.chained_assignment = None \n",
    "\n",
    "\n",
    "# Read in the data \n",
    "\n",
    "data = pd.ExcelFile('/Users/mgiangreco/Desktop/pwv_analytics_homework_data.xlsx')\n",
    "hist_df = data.parse('Historical Data')\n",
    "new_df = data.parse('New Cohort')"
   ]
  },
  {
   "cell_type": "markdown",
   "metadata": {},
   "source": [
    "#### Let's first generate some summary statistics for the historical data."
   ]
  },
  {
   "cell_type": "code",
   "execution_count": 491,
   "metadata": {
    "collapsed": false
   },
   "outputs": [
    {
     "data": {
      "text/html": [
       "<div>\n",
       "<table border=\"1\" class=\"dataframe\">\n",
       "  <thead>\n",
       "    <tr style=\"text-align: right;\">\n",
       "      <th></th>\n",
       "      <th>Date Joined</th>\n",
       "      <th>Date First Used</th>\n",
       "      <th>Phone</th>\n",
       "      <th>Age</th>\n",
       "      <th>State</th>\n",
       "    </tr>\n",
       "  </thead>\n",
       "  <tbody>\n",
       "    <tr>\n",
       "      <th>51914</th>\n",
       "      <td>2016-10-11</td>\n",
       "      <td>2016-10-13</td>\n",
       "      <td>iPhone</td>\n",
       "      <td>NaN</td>\n",
       "      <td>AL</td>\n",
       "    </tr>\n",
       "    <tr>\n",
       "      <th>60364</th>\n",
       "      <td>2016-10-26</td>\n",
       "      <td>2016-10-30</td>\n",
       "      <td>iPhone</td>\n",
       "      <td>NaN</td>\n",
       "      <td>FL</td>\n",
       "    </tr>\n",
       "    <tr>\n",
       "      <th>35044</th>\n",
       "      <td>2016-09-10</td>\n",
       "      <td>NaT</td>\n",
       "      <td>Android</td>\n",
       "      <td>28.0</td>\n",
       "      <td>NY</td>\n",
       "    </tr>\n",
       "    <tr>\n",
       "      <th>25535</th>\n",
       "      <td>2016-08-25</td>\n",
       "      <td>2016-08-30</td>\n",
       "      <td>iPhone</td>\n",
       "      <td>NaN</td>\n",
       "      <td>GA</td>\n",
       "    </tr>\n",
       "    <tr>\n",
       "      <th>75500</th>\n",
       "      <td>2016-11-20</td>\n",
       "      <td>NaT</td>\n",
       "      <td>iPhone</td>\n",
       "      <td>NaN</td>\n",
       "      <td>CA</td>\n",
       "    </tr>\n",
       "  </tbody>\n",
       "</table>\n",
       "</div>"
      ],
      "text/plain": [
       "      Date Joined Date First Used    Phone   Age State\n",
       "51914  2016-10-11      2016-10-13   iPhone   NaN    AL\n",
       "60364  2016-10-26      2016-10-30   iPhone   NaN    FL\n",
       "35044  2016-09-10             NaT  Android  28.0    NY\n",
       "25535  2016-08-25      2016-08-30   iPhone   NaN    GA\n",
       "75500  2016-11-20             NaT   iPhone   NaN    CA"
      ]
     },
     "execution_count": 491,
     "metadata": {},
     "output_type": "execute_result"
    }
   ],
   "source": [
    "# Inspect the historical dataset\n",
    "\n",
    "hist_df.sample(5)"
   ]
  },
  {
   "cell_type": "code",
   "execution_count": 492,
   "metadata": {
    "collapsed": false
   },
   "outputs": [],
   "source": [
    "# Convert date columns to datetime\n",
    "\n",
    "hist_df['Date Joined'] = pd.to_datetime(hist_df['Date Joined'])\n",
    "\n",
    "hist_df['Date First Used'] = \\\n",
    "pd.to_datetime(hist_df['Date First Used'])"
   ]
  },
  {
   "cell_type": "code",
   "execution_count": 493,
   "metadata": {
    "collapsed": false
   },
   "outputs": [
    {
     "data": {
      "text/html": [
       "<div>\n",
       "<table border=\"1\" class=\"dataframe\">\n",
       "  <thead>\n",
       "    <tr style=\"text-align: right;\">\n",
       "      <th></th>\n",
       "      <th>user_id</th>\n",
       "      <th>Date Joined</th>\n",
       "      <th>Date First Used</th>\n",
       "      <th>Phone</th>\n",
       "      <th>Age</th>\n",
       "      <th>State</th>\n",
       "    </tr>\n",
       "  </thead>\n",
       "  <tbody>\n",
       "    <tr>\n",
       "      <th>0</th>\n",
       "      <td>1</td>\n",
       "      <td>2016-07-01</td>\n",
       "      <td>2016-08-20</td>\n",
       "      <td>Android</td>\n",
       "      <td>NaN</td>\n",
       "      <td>GA</td>\n",
       "    </tr>\n",
       "    <tr>\n",
       "      <th>1</th>\n",
       "      <td>2</td>\n",
       "      <td>2016-07-01</td>\n",
       "      <td>2016-07-07</td>\n",
       "      <td>iPhone</td>\n",
       "      <td>38.0</td>\n",
       "      <td>CA</td>\n",
       "    </tr>\n",
       "    <tr>\n",
       "      <th>2</th>\n",
       "      <td>3</td>\n",
       "      <td>2016-07-01</td>\n",
       "      <td>2016-08-01</td>\n",
       "      <td>iPhone</td>\n",
       "      <td>NaN</td>\n",
       "      <td>WA</td>\n",
       "    </tr>\n",
       "    <tr>\n",
       "      <th>3</th>\n",
       "      <td>4</td>\n",
       "      <td>2016-07-01</td>\n",
       "      <td>2016-07-07</td>\n",
       "      <td>iPhone</td>\n",
       "      <td>NaN</td>\n",
       "      <td>CA</td>\n",
       "    </tr>\n",
       "    <tr>\n",
       "      <th>4</th>\n",
       "      <td>5</td>\n",
       "      <td>2016-07-01</td>\n",
       "      <td>2016-07-07</td>\n",
       "      <td>iPhone</td>\n",
       "      <td>39.0</td>\n",
       "      <td>CA</td>\n",
       "    </tr>\n",
       "  </tbody>\n",
       "</table>\n",
       "</div>"
      ],
      "text/plain": [
       "   user_id Date Joined Date First Used    Phone   Age State\n",
       "0        1  2016-07-01      2016-08-20  Android   NaN    GA\n",
       "1        2  2016-07-01      2016-07-07   iPhone  38.0    CA\n",
       "2        3  2016-07-01      2016-08-01   iPhone   NaN    WA\n",
       "3        4  2016-07-01      2016-07-07   iPhone   NaN    CA\n",
       "4        5  2016-07-01      2016-07-07   iPhone  39.0    CA"
      ]
     },
     "execution_count": 493,
     "metadata": {},
     "output_type": "execute_result"
    }
   ],
   "source": [
    "# Add a user_id column to give every row a unique identifier\n",
    "\n",
    "hist_df.reset_index(inplace=True)\n",
    "hist_df.rename(columns={hist_df.columns[0]: 'user_id'}, \n",
    "               inplace=True)\n",
    "hist_df['user_id'] += 1\n",
    "hist_df.head()"
   ]
  },
  {
   "cell_type": "code",
   "execution_count": 494,
   "metadata": {
    "collapsed": false
   },
   "outputs": [
    {
     "name": "stdout",
     "output_type": "stream",
     "text": [
      "The historical dataset contains 100000 unique users, with dates joined ranging from 2016-07-01 to 2016-12-31 and dates first used ranging from 2016-07-05 to 2017-05-01.\n"
     ]
    }
   ],
   "source": [
    "# Print summary statistics for historical dataset\n",
    "\n",
    "unique_users = hist_df['user_id'].nunique()\n",
    "min_date_joined = min(hist_df['Date Joined']).date()\n",
    "max_date_joined = max(hist_df['Date Joined']).date()\n",
    "min_date_used = min(hist_df['Date First Used']).date()\n",
    "max_date_used = max(hist_df['Date First Used']).date()\n",
    "\n",
    "print(\"The historical dataset contains %d unique users, \\\n",
    "with dates joined ranging from %s to %s and \\\n",
    "dates first used ranging from %s to %s.\")\\\n",
    "% (unique_users, min_date_joined, max_date_joined,\\\n",
    "   min_date_used, max_date_used)\n"
   ]
  },
  {
   "cell_type": "markdown",
   "metadata": {},
   "source": [
    "#### Note that some users in the historical dataset first used PWV after April 2017, meaning that they may have been exposed to marketing efforts. However, this would only affect users in their fourth month or later, since the latest date joined is 2016-12-31.\n",
    "\n",
    "#### Since there were missing values in the \"Age\" column, let's take a closer look at it and note that about (100000-26339) / 100000 = 74% of users in the historical dataset are missing ages."
   ]
  },
  {
   "cell_type": "code",
   "execution_count": 495,
   "metadata": {
    "collapsed": false
   },
   "outputs": [
    {
     "data": {
      "text/plain": [
       "count    26339.000000\n",
       "mean        23.720984\n",
       "std         11.746872\n",
       "min          0.000000\n",
       "25%         15.000000\n",
       "50%         22.000000\n",
       "75%         30.000000\n",
       "max        144.000000\n",
       "Name: Age, dtype: float64"
      ]
     },
     "execution_count": 495,
     "metadata": {},
     "output_type": "execute_result"
    }
   ],
   "source": [
    "hist_df['Age'].describe()"
   ]
  },
  {
   "cell_type": "markdown",
   "metadata": {},
   "source": [
    "#### Now let's generate the same summary statistics for the new cohort data."
   ]
  },
  {
   "cell_type": "code",
   "execution_count": 496,
   "metadata": {
    "collapsed": false
   },
   "outputs": [
    {
     "data": {
      "text/html": [
       "<div>\n",
       "<table border=\"1\" class=\"dataframe\">\n",
       "  <thead>\n",
       "    <tr style=\"text-align: right;\">\n",
       "      <th></th>\n",
       "      <th>Date Joined</th>\n",
       "      <th>Date First Used</th>\n",
       "      <th>Phone</th>\n",
       "      <th>Age</th>\n",
       "      <th>State</th>\n",
       "    </tr>\n",
       "  </thead>\n",
       "  <tbody>\n",
       "    <tr>\n",
       "      <th>317</th>\n",
       "      <td>2017-04-01</td>\n",
       "      <td>NaN</td>\n",
       "      <td>Android</td>\n",
       "      <td>NaN</td>\n",
       "      <td>CA</td>\n",
       "    </tr>\n",
       "    <tr>\n",
       "      <th>19620</th>\n",
       "      <td>2017-04-29</td>\n",
       "      <td>NaN</td>\n",
       "      <td>iPhone</td>\n",
       "      <td>NaN</td>\n",
       "      <td>TX</td>\n",
       "    </tr>\n",
       "    <tr>\n",
       "      <th>9775</th>\n",
       "      <td>2017-04-13</td>\n",
       "      <td>NaN</td>\n",
       "      <td>iPhone</td>\n",
       "      <td>NaN</td>\n",
       "      <td>MA</td>\n",
       "    </tr>\n",
       "    <tr>\n",
       "      <th>16887</th>\n",
       "      <td>2017-04-24</td>\n",
       "      <td>NaN</td>\n",
       "      <td>Android</td>\n",
       "      <td>30.0</td>\n",
       "      <td>OR</td>\n",
       "    </tr>\n",
       "    <tr>\n",
       "      <th>6088</th>\n",
       "      <td>2017-04-08</td>\n",
       "      <td>NaN</td>\n",
       "      <td>Android</td>\n",
       "      <td>NaN</td>\n",
       "      <td>LA</td>\n",
       "    </tr>\n",
       "  </tbody>\n",
       "</table>\n",
       "</div>"
      ],
      "text/plain": [
       "      Date Joined Date First Used    Phone   Age State\n",
       "317    2017-04-01             NaN  Android   NaN    CA\n",
       "19620  2017-04-29             NaN   iPhone   NaN    TX\n",
       "9775   2017-04-13             NaN   iPhone   NaN    MA\n",
       "16887  2017-04-24             NaN  Android  30.0    OR\n",
       "6088   2017-04-08             NaN  Android   NaN    LA"
      ]
     },
     "execution_count": 496,
     "metadata": {},
     "output_type": "execute_result"
    }
   ],
   "source": [
    "# Inspect the new cohort dataset\n",
    "\n",
    "new_df.sample(5)"
   ]
  },
  {
   "cell_type": "code",
   "execution_count": 497,
   "metadata": {
    "collapsed": false
   },
   "outputs": [],
   "source": [
    "# Convert date columns to datetime\n",
    "\n",
    "new_df['Date Joined'] = pd.to_datetime(new_df['Date Joined'])\n",
    "\n",
    "new_df['Date First Used'] = \\\n",
    "pd.to_datetime(new_df['Date First Used'])"
   ]
  },
  {
   "cell_type": "code",
   "execution_count": 498,
   "metadata": {
    "collapsed": false
   },
   "outputs": [
    {
     "data": {
      "text/html": [
       "<div>\n",
       "<table border=\"1\" class=\"dataframe\">\n",
       "  <thead>\n",
       "    <tr style=\"text-align: right;\">\n",
       "      <th></th>\n",
       "      <th>user_id</th>\n",
       "      <th>Date Joined</th>\n",
       "      <th>Date First Used</th>\n",
       "      <th>Phone</th>\n",
       "      <th>Age</th>\n",
       "      <th>State</th>\n",
       "    </tr>\n",
       "  </thead>\n",
       "  <tbody>\n",
       "    <tr>\n",
       "      <th>0</th>\n",
       "      <td>100001</td>\n",
       "      <td>2017-04-01</td>\n",
       "      <td>NaT</td>\n",
       "      <td>iPhone</td>\n",
       "      <td>NaN</td>\n",
       "      <td>NC</td>\n",
       "    </tr>\n",
       "    <tr>\n",
       "      <th>1</th>\n",
       "      <td>100002</td>\n",
       "      <td>2017-04-01</td>\n",
       "      <td>NaT</td>\n",
       "      <td>Android</td>\n",
       "      <td>8.0</td>\n",
       "      <td>CT</td>\n",
       "    </tr>\n",
       "    <tr>\n",
       "      <th>2</th>\n",
       "      <td>100003</td>\n",
       "      <td>2017-04-01</td>\n",
       "      <td>NaT</td>\n",
       "      <td>iPhone</td>\n",
       "      <td>NaN</td>\n",
       "      <td>CA</td>\n",
       "    </tr>\n",
       "    <tr>\n",
       "      <th>3</th>\n",
       "      <td>100004</td>\n",
       "      <td>2017-04-01</td>\n",
       "      <td>NaT</td>\n",
       "      <td>iPhone</td>\n",
       "      <td>NaN</td>\n",
       "      <td>FL</td>\n",
       "    </tr>\n",
       "    <tr>\n",
       "      <th>4</th>\n",
       "      <td>100005</td>\n",
       "      <td>2017-04-01</td>\n",
       "      <td>NaT</td>\n",
       "      <td>iPhone</td>\n",
       "      <td>NaN</td>\n",
       "      <td>OH</td>\n",
       "    </tr>\n",
       "  </tbody>\n",
       "</table>\n",
       "</div>"
      ],
      "text/plain": [
       "   user_id Date Joined Date First Used    Phone  Age State\n",
       "0   100001  2017-04-01             NaT   iPhone  NaN    NC\n",
       "1   100002  2017-04-01             NaT  Android  8.0    CT\n",
       "2   100003  2017-04-01             NaT   iPhone  NaN    CA\n",
       "3   100004  2017-04-01             NaT   iPhone  NaN    FL\n",
       "4   100005  2017-04-01             NaT   iPhone  NaN    OH"
      ]
     },
     "execution_count": 498,
     "metadata": {},
     "output_type": "execute_result"
    }
   ],
   "source": [
    "# Add a user_id column to give every row a unique identifier\n",
    "\n",
    "new_df.reset_index(inplace=True)\n",
    "new_df.rename(columns={new_df.columns[0]: 'user_id'}, inplace=True)\n",
    "new_df['user_id'] += (max(hist_df['user_id']) + 1)\n",
    "new_df.head()"
   ]
  },
  {
   "cell_type": "code",
   "execution_count": 499,
   "metadata": {
    "collapsed": false
   },
   "outputs": [
    {
     "name": "stdout",
     "output_type": "stream",
     "text": [
      "The new cohort dataset contains 20000 unique users, with dates joined ranging from 2017-04-01 to 2017-04-30 and dates first used PWV ranging from 2016-07-05 to 2017-05-01.\n"
     ]
    }
   ],
   "source": [
    "# Print summary statistics for new cohort dataset\n",
    "\n",
    "unique_users = new_df['user_id'].nunique()\n",
    "min_date_joined = min(new_df['Date Joined']).date()\n",
    "max_date_joined = max(new_df['Date Joined']).date()\n",
    "min_date_used = min(hist_df['Date First Used']).date()\n",
    "max_date_used = max(hist_df['Date First Used']).date()\n",
    "\n",
    "print(\"The new cohort dataset contains %d unique users, \\\n",
    "with dates joined ranging from %s to %s and \\\n",
    "dates first used PWV ranging from %s to %s.\")\\\n",
    "% (unique_users, min_date_joined, max_date_joined,\\\n",
    "   min_date_used, max_date_used)"
   ]
  },
  {
   "cell_type": "markdown",
   "metadata": {},
   "source": [
    "#### When we inspect the \"Age\" column of the new cohort dataset, we can see that we're missing ages for  about 78% of users."
   ]
  },
  {
   "cell_type": "code",
   "execution_count": 500,
   "metadata": {
    "collapsed": false
   },
   "outputs": [
    {
     "data": {
      "text/plain": [
       "count    4251.000000\n",
       "mean       23.209833\n",
       "std        11.146245\n",
       "min         4.000000\n",
       "25%        15.000000\n",
       "50%        22.000000\n",
       "75%        30.000000\n",
       "max       101.000000\n",
       "Name: Age, dtype: float64"
      ]
     },
     "execution_count": 500,
     "metadata": {},
     "output_type": "execute_result"
    }
   ],
   "source": [
    "new_df['Age'].describe()"
   ]
  },
  {
   "cell_type": "markdown",
   "metadata": {},
   "source": [
    "#### Let's now combine the two dataframes into a single dataframe for simplicity."
   ]
  },
  {
   "cell_type": "code",
   "execution_count": 501,
   "metadata": {
    "collapsed": false
   },
   "outputs": [],
   "source": [
    "# Stack the datasets into a single dataframe\n",
    "\n",
    "data = pd.concat([hist_df, new_df]).reset_index(drop=True)"
   ]
  },
  {
   "cell_type": "markdown",
   "metadata": {},
   "source": [
    "#### We need to add two columns to our combined dataframe: \"duration\", which is a measure of time (in days) between the join date and the present (we'll assume this to be May 1, 2017, the most recent adoption date in the datasets), and \"adopted\", which indicates whether the user has adopted PWV. "
   ]
  },
  {
   "cell_type": "code",
   "execution_count": 502,
   "metadata": {
    "collapsed": false
   },
   "outputs": [
    {
     "data": {
      "text/html": [
       "<div>\n",
       "<table border=\"1\" class=\"dataframe\">\n",
       "  <thead>\n",
       "    <tr style=\"text-align: right;\">\n",
       "      <th></th>\n",
       "      <th>user_id</th>\n",
       "      <th>Date Joined</th>\n",
       "      <th>Date First Used</th>\n",
       "      <th>Phone</th>\n",
       "      <th>Age</th>\n",
       "      <th>State</th>\n",
       "      <th>duration</th>\n",
       "      <th>adopted</th>\n",
       "    </tr>\n",
       "  </thead>\n",
       "  <tbody>\n",
       "    <tr>\n",
       "      <th>0</th>\n",
       "      <td>1</td>\n",
       "      <td>2016-07-01</td>\n",
       "      <td>2016-08-20</td>\n",
       "      <td>Android</td>\n",
       "      <td>NaN</td>\n",
       "      <td>GA</td>\n",
       "      <td>50.0</td>\n",
       "      <td>True</td>\n",
       "    </tr>\n",
       "    <tr>\n",
       "      <th>1</th>\n",
       "      <td>2</td>\n",
       "      <td>2016-07-01</td>\n",
       "      <td>2016-07-07</td>\n",
       "      <td>iPhone</td>\n",
       "      <td>38.0</td>\n",
       "      <td>CA</td>\n",
       "      <td>6.0</td>\n",
       "      <td>True</td>\n",
       "    </tr>\n",
       "    <tr>\n",
       "      <th>2</th>\n",
       "      <td>3</td>\n",
       "      <td>2016-07-01</td>\n",
       "      <td>2016-08-01</td>\n",
       "      <td>iPhone</td>\n",
       "      <td>NaN</td>\n",
       "      <td>WA</td>\n",
       "      <td>31.0</td>\n",
       "      <td>True</td>\n",
       "    </tr>\n",
       "    <tr>\n",
       "      <th>3</th>\n",
       "      <td>4</td>\n",
       "      <td>2016-07-01</td>\n",
       "      <td>2016-07-07</td>\n",
       "      <td>iPhone</td>\n",
       "      <td>NaN</td>\n",
       "      <td>CA</td>\n",
       "      <td>6.0</td>\n",
       "      <td>True</td>\n",
       "    </tr>\n",
       "    <tr>\n",
       "      <th>4</th>\n",
       "      <td>5</td>\n",
       "      <td>2016-07-01</td>\n",
       "      <td>2016-07-07</td>\n",
       "      <td>iPhone</td>\n",
       "      <td>39.0</td>\n",
       "      <td>CA</td>\n",
       "      <td>6.0</td>\n",
       "      <td>True</td>\n",
       "    </tr>\n",
       "  </tbody>\n",
       "</table>\n",
       "</div>"
      ],
      "text/plain": [
       "   user_id Date Joined Date First Used    Phone   Age State  duration adopted\n",
       "0        1  2016-07-01      2016-08-20  Android   NaN    GA      50.0    True\n",
       "1        2  2016-07-01      2016-07-07   iPhone  38.0    CA       6.0    True\n",
       "2        3  2016-07-01      2016-08-01   iPhone   NaN    WA      31.0    True\n",
       "3        4  2016-07-01      2016-07-07   iPhone   NaN    CA       6.0    True\n",
       "4        5  2016-07-01      2016-07-07   iPhone  39.0    CA       6.0    True"
      ]
     },
     "execution_count": 502,
     "metadata": {},
     "output_type": "execute_result"
    }
   ],
   "source": [
    "# Use utility function from lifelines package to add \"duration\" and \"adopted\" columns\n",
    "\n",
    "from lifelines.utils import datetimes_to_durations\n",
    "\n",
    "current_date = datetime.datetime(2017, 5, 1)\n",
    "start_dates = data['Date Joined']\n",
    "end_dates = data['Date First Used']\n",
    "T, E = datetimes_to_durations(start_dates, \n",
    "                              end_dates, \n",
    "                              fill_date=current_date, \n",
    "                              freq='D')\n",
    "\n",
    "durations = pd.DataFrame(T, columns=['duration'])\n",
    "event_observed = pd.DataFrame(E, columns=['adopted'])\n",
    "data = pd.concat([data, durations, event_observed], axis=1)\n",
    "\n",
    "data.head()"
   ]
  },
  {
   "cell_type": "markdown",
   "metadata": {},
   "source": [
    "#### Now we're ready to plot. The y-axis represents the probability that a user has NOT adopted after t days, where t days is on the x-axis. We consider only the first 30 days, since users in the new cohort have been customers for at most 30 days."
   ]
  },
  {
   "cell_type": "code",
   "execution_count": 503,
   "metadata": {
    "collapsed": false
   },
   "outputs": [
    {
     "data": {
      "image/png": "[encoded data removed]",
      "text/plain": [
       "<matplotlib.figure.Figure at 0x121b16e10>"
      ]
     },
     "metadata": {},
     "output_type": "display_data"
    }
   ],
   "source": [
    "# Plot adoption resistance curves for \"After Marketing\" (treatment) \n",
    "# and \"Before Marketing\" (control) groups\n",
    "\n",
    "%matplotlib inline\n",
    "import lifelines\n",
    "from lifelines import KaplanMeierFitter\n",
    "import matplotlib.pyplot as plt\n",
    "\n",
    "kmf = KaplanMeierFitter()\n",
    "\n",
    "ax = plt.subplot()\n",
    "\n",
    "new = data[data['user_id'] > 100000]\n",
    "old = data[data['user_id'] <= 100000] \n",
    "kmf.fit(new['duration'], event_observed=new['adopted'], \n",
    "        label=\"After Marketing\")\n",
    "kmf.plot(ax=ax, ci_force_lines=True)\n",
    "kmf.fit(old['duration'], event_observed=old['adopted'], \n",
    "        label=\"Before Marketing\")\n",
    "kmf.plot(ax=ax, ci_force_lines=True)\n",
    "\n",
    "plt.xlim(0, 30)\n",
    "plt.ylabel('Probability of Resisting Adoption')\n",
    "plt.xlabel('Days Since Joining')\n",
    "plt.title(\"Adoption Resistance Before Vs. After Marketing\");"
   ]
  },
  {
   "cell_type": "markdown",
   "metadata": {},
   "source": [
    "#### There seems to be a clear difference between the curves--specifically, adoption resistance is lower for the \"After Marketing\" group. Ten days after signup, for instance, about 50% of users exposed to the treatment have adopted, while only about (1-0.7) = 30% of users in the control group have adopted. If the marketing is causing the difference, then our marketing is working! We can verify analytically that this difference is statistically significant."
   ]
  },
  {
   "cell_type": "code",
   "execution_count": 504,
   "metadata": {
    "collapsed": false
   },
   "outputs": [
    {
     "name": "stdout",
     "output_type": "stream",
     "text": [
      "Results\n",
      "   df: 1\n",
      "   alpha: 0.95\n",
      "   t 0: -1\n",
      "   test: logrank\n",
      "   null distribution: chi squared\n",
      "\n",
      "   __ p-value ___|__ test statistic __|____ test result ____|__ is significant __\n",
      "         0.00000 |           2153.520 |      Reject Null    |        True       \n"
     ]
    }
   ],
   "source": [
    " from lifelines.statistics import logrank_test\n",
    "\n",
    " results = logrank_test(new['duration'], old['duration'], \n",
    "                        event_observed_A=new['adopted'], \n",
    "                        event_observed_B=old['adopted'])\n",
    " results.print_summary()"
   ]
  },
  {
   "cell_type": "markdown",
   "metadata": {},
   "source": [
    "### II. Predicting Future Values With Survival Regression"
   ]
  },
  {
   "cell_type": "markdown",
   "metadata": {},
   "source": [
    "#### Thus far, we have not considered the effect of the other variables (Phone, Age, State) on adoption. We can do this and predict future adoption using Cox's Proportional Hazard model. "
   ]
  },
  {
   "cell_type": "code",
   "execution_count": 505,
   "metadata": {
    "collapsed": false
   },
   "outputs": [
    {
     "data": {
      "text/html": [
       "<div>\n",
       "<table border=\"1\" class=\"dataframe\">\n",
       "  <thead>\n",
       "    <tr style=\"text-align: right;\">\n",
       "      <th></th>\n",
       "      <th>duration</th>\n",
       "      <th>adopted</th>\n",
       "      <th>Age</th>\n",
       "      <th>treatment</th>\n",
       "      <th>iPhone</th>\n",
       "      <th>AK</th>\n",
       "      <th>AL</th>\n",
       "      <th>AR</th>\n",
       "      <th>AZ</th>\n",
       "      <th>CA</th>\n",
       "      <th>...</th>\n",
       "      <th>TN</th>\n",
       "      <th>TX</th>\n",
       "      <th>UT</th>\n",
       "      <th>VA</th>\n",
       "      <th>VI</th>\n",
       "      <th>VT</th>\n",
       "      <th>WA</th>\n",
       "      <th>WI</th>\n",
       "      <th>WV</th>\n",
       "      <th>WY</th>\n",
       "    </tr>\n",
       "  </thead>\n",
       "  <tbody>\n",
       "    <tr>\n",
       "      <th>23821</th>\n",
       "      <td>253.0</td>\n",
       "      <td>False</td>\n",
       "      <td>17.0</td>\n",
       "      <td>0</td>\n",
       "      <td>0</td>\n",
       "      <td>0</td>\n",
       "      <td>0</td>\n",
       "      <td>0</td>\n",
       "      <td>0</td>\n",
       "      <td>1</td>\n",
       "      <td>...</td>\n",
       "      <td>0</td>\n",
       "      <td>0</td>\n",
       "      <td>0</td>\n",
       "      <td>0</td>\n",
       "      <td>0</td>\n",
       "      <td>0</td>\n",
       "      <td>0</td>\n",
       "      <td>0</td>\n",
       "      <td>0</td>\n",
       "      <td>0</td>\n",
       "    </tr>\n",
       "    <tr>\n",
       "      <th>42664</th>\n",
       "      <td>3.0</td>\n",
       "      <td>True</td>\n",
       "      <td>11.0</td>\n",
       "      <td>0</td>\n",
       "      <td>1</td>\n",
       "      <td>0</td>\n",
       "      <td>0</td>\n",
       "      <td>0</td>\n",
       "      <td>0</td>\n",
       "      <td>0</td>\n",
       "      <td>...</td>\n",
       "      <td>0</td>\n",
       "      <td>0</td>\n",
       "      <td>0</td>\n",
       "      <td>0</td>\n",
       "      <td>0</td>\n",
       "      <td>0</td>\n",
       "      <td>0</td>\n",
       "      <td>0</td>\n",
       "      <td>0</td>\n",
       "      <td>0</td>\n",
       "    </tr>\n",
       "    <tr>\n",
       "      <th>36249</th>\n",
       "      <td>231.0</td>\n",
       "      <td>False</td>\n",
       "      <td>11.0</td>\n",
       "      <td>0</td>\n",
       "      <td>1</td>\n",
       "      <td>0</td>\n",
       "      <td>0</td>\n",
       "      <td>0</td>\n",
       "      <td>0</td>\n",
       "      <td>0</td>\n",
       "      <td>...</td>\n",
       "      <td>0</td>\n",
       "      <td>0</td>\n",
       "      <td>0</td>\n",
       "      <td>0</td>\n",
       "      <td>0</td>\n",
       "      <td>0</td>\n",
       "      <td>0</td>\n",
       "      <td>0</td>\n",
       "      <td>0</td>\n",
       "      <td>0</td>\n",
       "    </tr>\n",
       "    <tr>\n",
       "      <th>81981</th>\n",
       "      <td>14.0</td>\n",
       "      <td>True</td>\n",
       "      <td>20.0</td>\n",
       "      <td>0</td>\n",
       "      <td>1</td>\n",
       "      <td>0</td>\n",
       "      <td>0</td>\n",
       "      <td>0</td>\n",
       "      <td>0</td>\n",
       "      <td>0</td>\n",
       "      <td>...</td>\n",
       "      <td>0</td>\n",
       "      <td>0</td>\n",
       "      <td>0</td>\n",
       "      <td>0</td>\n",
       "      <td>0</td>\n",
       "      <td>0</td>\n",
       "      <td>0</td>\n",
       "      <td>0</td>\n",
       "      <td>0</td>\n",
       "      <td>0</td>\n",
       "    </tr>\n",
       "    <tr>\n",
       "      <th>88697</th>\n",
       "      <td>140.0</td>\n",
       "      <td>False</td>\n",
       "      <td>25.0</td>\n",
       "      <td>0</td>\n",
       "      <td>1</td>\n",
       "      <td>0</td>\n",
       "      <td>0</td>\n",
       "      <td>0</td>\n",
       "      <td>0</td>\n",
       "      <td>0</td>\n",
       "      <td>...</td>\n",
       "      <td>0</td>\n",
       "      <td>0</td>\n",
       "      <td>0</td>\n",
       "      <td>0</td>\n",
       "      <td>0</td>\n",
       "      <td>0</td>\n",
       "      <td>0</td>\n",
       "      <td>0</td>\n",
       "      <td>0</td>\n",
       "      <td>0</td>\n",
       "    </tr>\n",
       "  </tbody>\n",
       "</table>\n",
       "<p>5 rows × 58 columns</p>\n",
       "</div>"
      ],
      "text/plain": [
       "       duration adopted   Age  treatment  iPhone  AK  AL  AR  AZ  CA ...  TN  \\\n",
       "23821     253.0   False  17.0          0       0   0   0   0   0   1 ...   0   \n",
       "42664       3.0    True  11.0          0       1   0   0   0   0   0 ...   0   \n",
       "36249     231.0   False  11.0          0       1   0   0   0   0   0 ...   0   \n",
       "81981      14.0    True  20.0          0       1   0   0   0   0   0 ...   0   \n",
       "88697     140.0   False  25.0          0       1   0   0   0   0   0 ...   0   \n",
       "\n",
       "       TX  UT  VA  VI  VT  WA  WI  WV  WY  \n",
       "23821   0   0   0   0   0   0   0   0   0  \n",
       "42664   0   0   0   0   0   0   0   0   0  \n",
       "36249   0   0   0   0   0   0   0   0   0  \n",
       "81981   0   0   0   0   0   0   0   0   0  \n",
       "88697   0   0   0   0   0   0   0   0   0  \n",
       "\n",
       "[5 rows x 58 columns]"
      ]
     },
     "execution_count": 505,
     "metadata": {},
     "output_type": "execute_result"
    }
   ],
   "source": [
    "# Prepare the data for regression by adding a treatment dummy, \n",
    "# one hot encoding categorical variables,\n",
    "# and dropping rows containing missing data\n",
    "\n",
    "regr_data = data[['duration', 'adopted', 'user_id', \n",
    "                  'Phone', 'Age', 'State']]\n",
    "\n",
    "def add_treatment_dummy(df):\n",
    "    if df['user_id']>100000:\n",
    "        return 1\n",
    "    else:\n",
    "        return 0\n",
    "\n",
    "regr_data['treatment'] = regr_data.apply(add_treatment_dummy, \n",
    "                                         axis=1)\n",
    "\n",
    "phone = pd.get_dummies(regr_data['Phone']) # one hot encode 'Phone'\n",
    "\n",
    "state = pd.get_dummies(regr_data['State']) # one hot encode 'State'\n",
    "\n",
    "regr_data = pd.concat([regr_data, phone, state], \n",
    "                      axis=1)\n",
    "\n",
    "regr_data.drop(['user_id', 'Phone', 'Android', 'State'], \n",
    "               axis=1, \n",
    "               inplace=True)\n",
    "\n",
    "regr_data.dropna(inplace=True) # drop rows with missing values\n",
    "\n",
    "regr_data.sample(5)"
   ]
  },
  {
   "cell_type": "code",
   "execution_count": 506,
   "metadata": {
    "collapsed": false
   },
   "outputs": [
    {
     "name": "stdout",
     "output_type": "stream",
     "text": [
      "n=30590, number of events=15670\n",
      "\n",
      "             coef  exp(coef)  se(coef)       z      p  lower 0.95  upper 0.95     \n",
      "Age        0.0098     1.0099    0.0007 14.9140 0.0000      0.0086      0.0111  ***\n",
      "treatment  0.4598     1.5838    0.0235 19.5465 0.0000      0.4137      0.5060  ***\n",
      "iPhone     0.0090     1.0090    0.0170  0.5292 0.5966     -0.0243      0.0423     \n",
      "AK         0.3753     1.4555    0.5839  0.6428 0.5203     -0.7693      1.5200     \n",
      "AL         0.0209     1.0212    0.5130  0.0408 0.9674     -0.9848      1.0267     \n",
      "AR         0.2194     1.2454    0.5334  0.4114 0.6808     -0.8262      1.2651     \n",
      "AZ         0.0733     1.0761    0.5050  0.1452 0.8845     -0.9167      1.0634     \n",
      "CA        -0.1017     0.9033    0.5003 -0.2033 0.8389     -1.0824      0.8791     \n",
      "CO         0.1186     1.1259    0.5030  0.2357 0.8136     -0.8675      1.1047     \n",
      "CT        -0.3822     0.6824    0.5061 -0.7551 0.4502     -1.3743      0.6100     \n",
      "DC        -0.0379     0.9628    0.5042 -0.0753 0.9400     -1.0263      0.9504     \n",
      "DE         0.0811     1.0844    0.5314  0.1526 0.8787     -0.9606      1.1227     \n",
      "FL         0.2951     1.3432    0.5013  0.5886 0.5561     -0.6876      1.2777     \n",
      "GA         0.0812     1.0846    0.5022  0.1618 0.8715     -0.9032      1.0657     \n",
      "HI         0.1316     1.1406    0.5189  0.2536 0.7998     -0.8857      1.1488     \n",
      "IA        -0.0947     0.9096    0.5304 -0.1786 0.8582     -1.1345      0.9450     \n",
      "ID         0.2878     1.3335    0.5385  0.5344 0.5930     -0.7679      1.3436     \n",
      "IL        -0.0597     0.9420    0.5021 -0.1190 0.9053     -1.0440      0.9246     \n",
      "IN         0.1718     1.1875    0.5104  0.3367 0.7364     -0.8288      1.1725     \n",
      "KS        -0.1431     0.8667    0.5209 -0.2747 0.7836     -1.1642      0.8781     \n",
      "KY         0.2136     1.2381    0.5162  0.4138 0.6790     -0.7983      1.2255     \n",
      "LA         0.2187     1.2445    0.5079  0.4306 0.6667     -0.7770      1.2144     \n",
      "MA        -0.1412     0.8683    0.5017 -0.2815 0.7783     -1.1248      0.8423     \n",
      "MD        -0.1268     0.8809    0.5035 -0.2518 0.8012     -1.1140      0.8603     \n",
      "ME         0.2156     1.2406    0.5346  0.4033 0.6868     -0.8324      1.2635     \n",
      "MI         0.0643     1.0664    0.5041  0.1276 0.8985     -0.9239      1.0525     \n",
      "MN        -0.3113     0.7325    0.5110 -0.6091 0.5425     -1.3131      0.6906     \n",
      "MO         0.0367     1.0374    0.5077  0.0723 0.9424     -0.9587      1.0321     \n",
      "MS         0.3032     1.3541    0.5239  0.5787 0.5628     -0.7238      1.3302     \n",
      "MT         0.3933     1.4818    0.5670  0.6937 0.4879     -0.7182      1.5048     \n",
      "NC         0.1214     1.1290    0.5033  0.2411 0.8095     -0.8653      1.1081     \n",
      "ND        -0.0136     0.9865    0.6269 -0.0217 0.9827     -1.2425      1.2153     \n",
      "NE        -0.1205     0.8865    0.5502 -0.2191 0.8266     -1.1990      0.9580     \n",
      "NH        -0.0162     0.9839    0.5228 -0.0310 0.9753     -1.0410      1.0086     \n",
      "NJ        -0.1938     0.8238    0.5015 -0.3865 0.6991     -1.1769      0.7892     \n",
      "NM         0.2459     1.2788    0.5346  0.4600 0.6455     -0.8021      1.2938     \n",
      "NV         0.1534     1.1658    0.5089  0.3015 0.7630     -0.8441      1.1510     \n",
      "NY        -0.0746     0.9281    0.5005 -0.1491 0.8815     -1.0557      0.9065     \n",
      "OH         0.0270     1.0274    0.5039  0.0536 0.9573     -0.9608      1.0148     \n",
      "OK        -0.1013     0.9036    0.5234 -0.1936 0.8465     -1.1273      0.9246     \n",
      "OR        -0.2103     0.8103    0.5079 -0.4141 0.6788     -1.2060      0.7854     \n",
      "PA        -0.1414     0.8681    0.5020 -0.2818 0.7781     -1.1255      0.8427     \n",
      "PR        -0.0670     0.9352    0.5628 -0.1190 0.9053     -1.1703      1.0363     \n",
      "RI         0.1888     1.2078    0.5157  0.3662 0.7142     -0.8221      1.1997     \n",
      "SC         0.0511     1.0524    0.5084  0.1004 0.9200     -0.9456      1.0477     \n",
      "SD         0.1153     1.1222    0.5917  0.1948 0.8456     -1.0447      1.2752     \n",
      "TN        -0.1099     0.8959    0.5065 -0.2169 0.8283     -1.1028      0.8830     \n",
      "TX         0.0735     1.0762    0.5011  0.1466 0.8834     -0.9088      1.0558     \n",
      "UT         0.1974     1.2183    0.5035  0.3921 0.6950     -0.7896      1.1845     \n",
      "VA         0.0341     1.0347    0.5022  0.0680 0.9458     -0.9504      1.0187     \n",
      "VI         0.9161     2.4994    0.6448  1.4207 0.1554     -0.3480      2.1801     \n",
      "VT         0.1193     1.1268    0.5286  0.2258 0.8214     -0.9170      1.1557     \n",
      "WA        -0.0935     0.9108    0.5030 -0.1859 0.8526     -1.0796      0.8926     \n",
      "WI        -0.1907     0.8264    0.5150 -0.3703 0.7111     -1.2002      0.8188     \n",
      "WV        -0.2257     0.7979    0.6125 -0.3686 0.7124     -1.4264      0.9749     \n",
      "WY         0.3298     1.3907    0.5841  0.5647 0.5723     -0.8152      1.4749     \n",
      "---\n",
      "Signif. codes:  0 '***' 0.001 '**' 0.01 '*' 0.05 '.' 0.1 ' ' 1 \n",
      "\n",
      "Concordance = 0.563\n"
     ]
    }
   ],
   "source": [
    "# Fit Cox Proportional Hazard regression model\n",
    "\n",
    "from lifelines import CoxPHFitter\n",
    "\n",
    "cph = CoxPHFitter()\n",
    "cph.fit(regr_data, duration_col='duration', event_col='adopted')\n",
    "\n",
    "cph.print_summary() "
   ]
  },
  {
   "cell_type": "markdown",
   "metadata": {},
   "source": [
    "#### Two things to note: 1) 'Treatment' and 'Age' are the only statistically significant covariates. Holding other factors constant, at any given time a user in the treatment group is ~58% more likely to adopt than a user in the control group (older users also seem to adopt at relatively higher rates, but we might not want to put too much stock in that conclusion until we know more about why we're missing ages for three-quarters of users), and 2) Concordance (a.k.a. c-index) is close to 0.5, meaning the model is not much better than random guessing at predicting outcomes at the individual user level. Fortunately, we need only predict the survival rate of the population as a whole. Let's go ahead and make those predictions for the new cohort."
   ]
  },
  {
   "cell_type": "code",
   "execution_count": 507,
   "metadata": {
    "collapsed": false
   },
   "outputs": [
    {
     "data": {
      "text/html": [
       "<div>\n",
       "<table border=\"1\" class=\"dataframe\">\n",
       "  <thead>\n",
       "    <tr style=\"text-align: right;\">\n",
       "      <th></th>\n",
       "      <th>100001</th>\n",
       "      <th>100005</th>\n",
       "      <th>100006</th>\n",
       "      <th>100009</th>\n",
       "      <th>100015</th>\n",
       "      <th>100019</th>\n",
       "      <th>100022</th>\n",
       "      <th>100023</th>\n",
       "      <th>100024</th>\n",
       "      <th>100027</th>\n",
       "      <th>...</th>\n",
       "      <th>119942</th>\n",
       "      <th>119944</th>\n",
       "      <th>119947</th>\n",
       "      <th>119961</th>\n",
       "      <th>119965</th>\n",
       "      <th>119971</th>\n",
       "      <th>119979</th>\n",
       "      <th>119982</th>\n",
       "      <th>119986</th>\n",
       "      <th>119987</th>\n",
       "    </tr>\n",
       "    <tr>\n",
       "      <th>event_at</th>\n",
       "      <th></th>\n",
       "      <th></th>\n",
       "      <th></th>\n",
       "      <th></th>\n",
       "      <th></th>\n",
       "      <th></th>\n",
       "      <th></th>\n",
       "      <th></th>\n",
       "      <th></th>\n",
       "      <th></th>\n",
       "      <th></th>\n",
       "      <th></th>\n",
       "      <th></th>\n",
       "      <th></th>\n",
       "      <th></th>\n",
       "      <th></th>\n",
       "      <th></th>\n",
       "      <th></th>\n",
       "      <th></th>\n",
       "      <th></th>\n",
       "      <th></th>\n",
       "    </tr>\n",
       "  </thead>\n",
       "  <tbody>\n",
       "    <tr>\n",
       "      <th>0.0</th>\n",
       "      <td>1.000000</td>\n",
       "      <td>1.000000</td>\n",
       "      <td>1.000000</td>\n",
       "      <td>1.000000</td>\n",
       "      <td>1.000000</td>\n",
       "      <td>1.000000</td>\n",
       "      <td>1.000000</td>\n",
       "      <td>1.000000</td>\n",
       "      <td>1.000000</td>\n",
       "      <td>1.000000</td>\n",
       "      <td>...</td>\n",
       "      <td>1.000000</td>\n",
       "      <td>1.000000</td>\n",
       "      <td>1.000000</td>\n",
       "      <td>1.000000</td>\n",
       "      <td>1.000000</td>\n",
       "      <td>1.000000</td>\n",
       "      <td>1.000000</td>\n",
       "      <td>1.000000</td>\n",
       "      <td>1.000000</td>\n",
       "      <td>1.000000</td>\n",
       "    </tr>\n",
       "    <tr>\n",
       "      <th>1.0</th>\n",
       "      <td>0.994595</td>\n",
       "      <td>0.991174</td>\n",
       "      <td>0.992781</td>\n",
       "      <td>0.992851</td>\n",
       "      <td>0.989855</td>\n",
       "      <td>0.991554</td>\n",
       "      <td>0.989746</td>\n",
       "      <td>0.989197</td>\n",
       "      <td>0.990715</td>\n",
       "      <td>0.992267</td>\n",
       "      <td>...</td>\n",
       "      <td>0.986580</td>\n",
       "      <td>0.987958</td>\n",
       "      <td>0.992717</td>\n",
       "      <td>0.992637</td>\n",
       "      <td>0.992238</td>\n",
       "      <td>0.991227</td>\n",
       "      <td>0.989635</td>\n",
       "      <td>0.990547</td>\n",
       "      <td>0.991985</td>\n",
       "      <td>0.992647</td>\n",
       "    </tr>\n",
       "    <tr>\n",
       "      <th>2.0</th>\n",
       "      <td>0.955632</td>\n",
       "      <td>0.928456</td>\n",
       "      <td>0.941134</td>\n",
       "      <td>0.941694</td>\n",
       "      <td>0.918163</td>\n",
       "      <td>0.931443</td>\n",
       "      <td>0.917320</td>\n",
       "      <td>0.913065</td>\n",
       "      <td>0.924866</td>\n",
       "      <td>0.937069</td>\n",
       "      <td>...</td>\n",
       "      <td>0.893031</td>\n",
       "      <td>0.903536</td>\n",
       "      <td>0.940628</td>\n",
       "      <td>0.940000</td>\n",
       "      <td>0.936837</td>\n",
       "      <td>0.928875</td>\n",
       "      <td>0.916456</td>\n",
       "      <td>0.923552</td>\n",
       "      <td>0.934837</td>\n",
       "      <td>0.940071</td>\n",
       "    </tr>\n",
       "    <tr>\n",
       "      <th>3.0</th>\n",
       "      <td>0.893691</td>\n",
       "      <td>0.832065</td>\n",
       "      <td>0.860489</td>\n",
       "      <td>0.861757</td>\n",
       "      <td>0.809408</td>\n",
       "      <td>0.838712</td>\n",
       "      <td>0.807567</td>\n",
       "      <td>0.798322</td>\n",
       "      <td>0.824120</td>\n",
       "      <td>0.851314</td>\n",
       "      <td>...</td>\n",
       "      <td>0.755642</td>\n",
       "      <td>0.777847</td>\n",
       "      <td>0.859344</td>\n",
       "      <td>0.857922</td>\n",
       "      <td>0.850790</td>\n",
       "      <td>0.832995</td>\n",
       "      <td>0.805685</td>\n",
       "      <td>0.821223</td>\n",
       "      <td>0.846299</td>\n",
       "      <td>0.858084</td>\n",
       "    </tr>\n",
       "    <tr>\n",
       "      <th>4.0</th>\n",
       "      <td>0.838598</td>\n",
       "      <td>0.749820</td>\n",
       "      <td>0.790321</td>\n",
       "      <td>0.792145</td>\n",
       "      <td>0.718091</td>\n",
       "      <td>0.759222</td>\n",
       "      <td>0.715535</td>\n",
       "      <td>0.702747</td>\n",
       "      <td>0.738637</td>\n",
       "      <td>0.777164</td>\n",
       "      <td>...</td>\n",
       "      <td>0.644806</td>\n",
       "      <td>0.674726</td>\n",
       "      <td>0.788674</td>\n",
       "      <td>0.786631</td>\n",
       "      <td>0.776415</td>\n",
       "      <td>0.751133</td>\n",
       "      <td>0.712925</td>\n",
       "      <td>0.734574</td>\n",
       "      <td>0.770006</td>\n",
       "      <td>0.786864</td>\n",
       "    </tr>\n",
       "  </tbody>\n",
       "</table>\n",
       "<p>5 rows × 4251 columns</p>\n",
       "</div>"
      ],
      "text/plain": [
       "            100001    100005    100006    100009    100015    100019  \\\n",
       "event_at                                                               \n",
       "0.0       1.000000  1.000000  1.000000  1.000000  1.000000  1.000000   \n",
       "1.0       0.994595  0.991174  0.992781  0.992851  0.989855  0.991554   \n",
       "2.0       0.955632  0.928456  0.941134  0.941694  0.918163  0.931443   \n",
       "3.0       0.893691  0.832065  0.860489  0.861757  0.809408  0.838712   \n",
       "4.0       0.838598  0.749820  0.790321  0.792145  0.718091  0.759222   \n",
       "\n",
       "            100022    100023    100024    100027    ...       119942  \\\n",
       "event_at                                            ...                \n",
       "0.0       1.000000  1.000000  1.000000  1.000000    ...     1.000000   \n",
       "1.0       0.989746  0.989197  0.990715  0.992267    ...     0.986580   \n",
       "2.0       0.917320  0.913065  0.924866  0.937069    ...     0.893031   \n",
       "3.0       0.807567  0.798322  0.824120  0.851314    ...     0.755642   \n",
       "4.0       0.715535  0.702747  0.738637  0.777164    ...     0.644806   \n",
       "\n",
       "            119944    119947    119961    119965    119971    119979  \\\n",
       "event_at                                                               \n",
       "0.0       1.000000  1.000000  1.000000  1.000000  1.000000  1.000000   \n",
       "1.0       0.987958  0.992717  0.992637  0.992238  0.991227  0.989635   \n",
       "2.0       0.903536  0.940628  0.940000  0.936837  0.928875  0.916456   \n",
       "3.0       0.777847  0.859344  0.857922  0.850790  0.832995  0.805685   \n",
       "4.0       0.674726  0.788674  0.786631  0.776415  0.751133  0.712925   \n",
       "\n",
       "            119982    119986    119987  \n",
       "event_at                                \n",
       "0.0       1.000000  1.000000  1.000000  \n",
       "1.0       0.990547  0.991985  0.992647  \n",
       "2.0       0.923552  0.934837  0.940071  \n",
       "3.0       0.821223  0.846299  0.858084  \n",
       "4.0       0.734574  0.770006  0.786864  \n",
       "\n",
       "[5 rows x 4251 columns]"
      ]
     },
     "execution_count": 507,
     "metadata": {},
     "output_type": "execute_result"
    }
   ],
   "source": [
    "# Use fitted model to make adoption resistance predictions for users in new cohort\n",
    "\n",
    "ix = (regr_data['treatment'] == 1) \n",
    "treatment = regr_data.loc[ix]\n",
    "\n",
    "preds = cph.predict_survival_function(treatment)\n",
    "\n",
    "preds.head()"
   ]
  },
  {
   "cell_type": "code",
   "execution_count": 508,
   "metadata": {
    "collapsed": false
   },
   "outputs": [
    {
     "data": {
      "image/png": "[encoded data removed]",
      "text/plain": [
       "<matplotlib.figure.Figure at 0x13b327990>"
      ]
     },
     "metadata": {},
     "output_type": "display_data"
    }
   ],
   "source": [
    "# Return the predicted adoption resistance for entire new cohort and plot curve\n",
    "\n",
    "new_cohort_pred = pd.DataFrame(data=preds.mean(axis=1), columns=['new_cohort'])\n",
    "\n",
    "ax = plt.subplot()\n",
    "\n",
    "new_cohort_pred.plot(ax=ax);\n",
    "\n",
    "plt.xlim(0, 90)\n",
    "plt.ylim(0.3, 0.5)\n",
    "plt.ylabel('Probability of Resisting Adoption')\n",
    "plt.xlabel('Days Since Joining')\n",
    "plt.title(\"Estimated Adoption Resistance, New Cohort\");"
   ]
  },
  {
   "cell_type": "markdown",
   "metadata": {},
   "source": [
    "#### Assuming for simplicity that all 20,000 users joined on April 1 (in reality they joined at various points in the month), on May 1 we would expect about 20,000 x (1 - 40%) = 12,000 users to have adopted. By June 1, we would expect about 20,000 x (1 - 36%) = 12,800 users to have adopted. By July 1, we would expect about 20,000 x (1 - 35%) = 13,000 users to have adopted. Note that the overwhelming majority of adoption comes in the first 30 days of a user's lifetime and plateaus as time goes on. This follows the classic saturation effect of marketing, whereby additional exposures to a product achieve diminishing returns."
   ]
  },
  {
   "cell_type": "markdown",
   "metadata": {},
   "source": [
    "## Next Steps"
   ]
  },
  {
   "cell_type": "markdown",
   "metadata": {},
   "source": [
    "#### In light of these results, there are three immediate next steps we should pursue: 1) Verify our findings with a randomized controlled experiment, 2) Conduct a cost-benefit analysis of our marketing efforts, and 3) Optimize our product marketing mix.\n",
    "\n",
    "#### 1) Although we have made the best of the data we have, we cannot be certain that marketing efforts are truly causing the increase in adoption. This is because our control and treatment groups were conducted on different populations of users during different time periods. Since the app is constantly evolving, there could have been changes in early 2017 that resulted in increased adoption of PWV. The only way to rule out this possibility is to conduct an A/B test in which a random subset of new users are shielded from PWV product marketing, while at the same time another random subset of new users are exposed to the PWV product marketing.\n",
    "\n",
    "#### 2) Assuming our conclusions are proven out by the A/B test and the lift in adoption is real, we need to weigh the costs of conducting marketing efforts against the benefits of adoption. On the costs side, it is likely that our marketing efforts come at the expense of other calls to action we could be making of our users, and they almost certainly consume internal resources. On the benefits side, we need to quantify the value of getting a user to adopt PWV. This might involve determining whether using PWV increases customer lifetime value, both directly through PWV revenue and indirectly through increased use of the core product.\n",
    "\n",
    "#### 3) With a cost-benefit framework in place, we can fine-tune our marketing mix through segmenting by marketing channel. By conducting cost-benefit analysis on each channel individually, we can identify the highest ROI channels and focus future efforts on those channels."
   ]
  }
 ],
 "metadata": {
  "kernelspec": {
   "display_name": "Python 2",
   "language": "python",
   "name": "python2"
  }
 },
 "nbformat": 4,
 "nbformat_minor": 2
}
